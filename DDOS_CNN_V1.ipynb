{
  "cells": [
    {
      "cell_type": "markdown",
      "metadata": {
        "id": "view-in-github",
        "colab_type": "text"
      },
      "source": [
        "<a href=\"https://colab.research.google.com/github/Shorubiga/Detection-and-Classification-of-Distributed-DoS-Attacks-using-Machine-Learning/blob/master/DDOS_CNN_V1.ipynb\" target=\"_parent\"><img src=\"https://colab.research.google.com/assets/colab-badge.svg\" alt=\"Open In Colab\"/></a>"
      ]
    },
    {
      "cell_type": "code",
      "execution_count": 1,
      "metadata": {
        "colab": {
          "base_uri": "https://localhost:8080/"
        },
        "id": "xi2WzeFo5Emv",
        "outputId": "5000e60a-23d2-4507-a87a-8522b22e2a11"
      },
      "outputs": [
        {
          "output_type": "stream",
          "name": "stdout",
          "text": [
            "Mounted at /content/drive\n"
          ]
        }
      ],
      "source": [
        "from google.colab import drive\n",
        "drive.mount('/content/drive')"
      ]
    },
    {
      "cell_type": "code",
      "execution_count": 2,
      "metadata": {
        "id": "MiEJKiYQ5LS9"
      },
      "outputs": [],
      "source": [
        " #%tensorflow_version 2.x\n",
        "from sklearn.preprocessing import LabelEncoder\n",
        "from keras.models import Sequential\n",
        "from keras.layers import Dense, Dropout, Activation, Lambda, Flatten\n",
        "from keras.layers import Convolution1D, Dense, Dropout, MaxPooling1D, LSTM\n",
        "from sklearn.model_selection import train_test_split\n",
        "from sklearn import preprocessing\n",
        "from sklearn.preprocessing import Normalizer\n",
        "from keras import callbacks\n",
        "from keras.callbacks import CSVLogger\n",
        "from keras.utils import to_categorical\n",
        "from keras.callbacks import ModelCheckpoint, EarlyStopping, ReduceLROnPlateau, CSVLogger\n",
        "import numpy as np\n",
        "np.random.seed(0)"
      ]
    },
    {
      "cell_type": "code",
      "execution_count": 3,
      "metadata": {
        "colab": {
          "base_uri": "https://localhost:8080/",
          "height": 36
        },
        "id": "60tUMkqF7vlL",
        "outputId": "e1548751-1772-4aca-ec11-e9ef0ff2b22c"
      },
      "outputs": [
        {
          "output_type": "execute_result",
          "data": {
            "text/plain": [
              "'/device:GPU:0'"
            ],
            "application/vnd.google.colaboratory.intrinsic+json": {
              "type": "string"
            }
          },
          "metadata": {},
          "execution_count": 3
        }
      ],
      "source": [
        "import tensorflow as tf\n",
        "tf.test.gpu_device_name()"
      ]
    },
    {
      "cell_type": "code",
      "execution_count": 4,
      "metadata": {
        "id": "U8Y02jOF5RN7"
      },
      "outputs": [],
      "source": [
        "#loading dataset\n",
        "import pandas as pd\n",
        "x = pd.read_csv(\"/content/drive/My Drive/DatasetCNNDDoS/clean_1.csv\", engine='python')\n",
        "y = pd.read_csv(\"/content/drive/My Drive/DatasetCNNDDoS/y.csv\", engine='python')\n",
        "\n"
      ]
    },
    {
      "cell_type": "code",
      "execution_count": 5,
      "metadata": {
        "colab": {
          "base_uri": "https://localhost:8080/",
          "height": 206
        },
        "id": "d6wrZ_I6ha8U",
        "outputId": "c0a4cbf7-c93c-4fa1-a116-98876d39a02c"
      },
      "outputs": [
        {
          "output_type": "execute_result",
          "data": {
            "text/plain": [
              "   Unnamed: 0  Label\n",
              "0           0      2\n",
              "1           1      2\n",
              "2           2      2\n",
              "3           3      2\n",
              "4           4      2"
            ],
            "text/html": [
              "\n",
              "  <div id=\"df-5cd96423-844f-4d23-acf9-b2f39331ac92\">\n",
              "    <div class=\"colab-df-container\">\n",
              "      <div>\n",
              "<style scoped>\n",
              "    .dataframe tbody tr th:only-of-type {\n",
              "        vertical-align: middle;\n",
              "    }\n",
              "\n",
              "    .dataframe tbody tr th {\n",
              "        vertical-align: top;\n",
              "    }\n",
              "\n",
              "    .dataframe thead th {\n",
              "        text-align: right;\n",
              "    }\n",
              "</style>\n",
              "<table border=\"1\" class=\"dataframe\">\n",
              "  <thead>\n",
              "    <tr style=\"text-align: right;\">\n",
              "      <th></th>\n",
              "      <th>Unnamed: 0</th>\n",
              "      <th>Label</th>\n",
              "    </tr>\n",
              "  </thead>\n",
              "  <tbody>\n",
              "    <tr>\n",
              "      <th>0</th>\n",
              "      <td>0</td>\n",
              "      <td>2</td>\n",
              "    </tr>\n",
              "    <tr>\n",
              "      <th>1</th>\n",
              "      <td>1</td>\n",
              "      <td>2</td>\n",
              "    </tr>\n",
              "    <tr>\n",
              "      <th>2</th>\n",
              "      <td>2</td>\n",
              "      <td>2</td>\n",
              "    </tr>\n",
              "    <tr>\n",
              "      <th>3</th>\n",
              "      <td>3</td>\n",
              "      <td>2</td>\n",
              "    </tr>\n",
              "    <tr>\n",
              "      <th>4</th>\n",
              "      <td>4</td>\n",
              "      <td>2</td>\n",
              "    </tr>\n",
              "  </tbody>\n",
              "</table>\n",
              "</div>\n",
              "      <button class=\"colab-df-convert\" onclick=\"convertToInteractive('df-5cd96423-844f-4d23-acf9-b2f39331ac92')\"\n",
              "              title=\"Convert this dataframe to an interactive table.\"\n",
              "              style=\"display:none;\">\n",
              "        \n",
              "  <svg xmlns=\"http://www.w3.org/2000/svg\" height=\"24px\"viewBox=\"0 0 24 24\"\n",
              "       width=\"24px\">\n",
              "    <path d=\"M0 0h24v24H0V0z\" fill=\"none\"/>\n",
              "    <path d=\"M18.56 5.44l.94 2.06.94-2.06 2.06-.94-2.06-.94-.94-2.06-.94 2.06-2.06.94zm-11 1L8.5 8.5l.94-2.06 2.06-.94-2.06-.94L8.5 2.5l-.94 2.06-2.06.94zm10 10l.94 2.06.94-2.06 2.06-.94-2.06-.94-.94-2.06-.94 2.06-2.06.94z\"/><path d=\"M17.41 7.96l-1.37-1.37c-.4-.4-.92-.59-1.43-.59-.52 0-1.04.2-1.43.59L10.3 9.45l-7.72 7.72c-.78.78-.78 2.05 0 2.83L4 21.41c.39.39.9.59 1.41.59.51 0 1.02-.2 1.41-.59l7.78-7.78 2.81-2.81c.8-.78.8-2.07 0-2.86zM5.41 20L4 18.59l7.72-7.72 1.47 1.35L5.41 20z\"/>\n",
              "  </svg>\n",
              "      </button>\n",
              "      \n",
              "  <style>\n",
              "    .colab-df-container {\n",
              "      display:flex;\n",
              "      flex-wrap:wrap;\n",
              "      gap: 12px;\n",
              "    }\n",
              "\n",
              "    .colab-df-convert {\n",
              "      background-color: #E8F0FE;\n",
              "      border: none;\n",
              "      border-radius: 50%;\n",
              "      cursor: pointer;\n",
              "      display: none;\n",
              "      fill: #1967D2;\n",
              "      height: 32px;\n",
              "      padding: 0 0 0 0;\n",
              "      width: 32px;\n",
              "    }\n",
              "\n",
              "    .colab-df-convert:hover {\n",
              "      background-color: #E2EBFA;\n",
              "      box-shadow: 0px 1px 2px rgba(60, 64, 67, 0.3), 0px 1px 3px 1px rgba(60, 64, 67, 0.15);\n",
              "      fill: #174EA6;\n",
              "    }\n",
              "\n",
              "    [theme=dark] .colab-df-convert {\n",
              "      background-color: #3B4455;\n",
              "      fill: #D2E3FC;\n",
              "    }\n",
              "\n",
              "    [theme=dark] .colab-df-convert:hover {\n",
              "      background-color: #434B5C;\n",
              "      box-shadow: 0px 1px 3px 1px rgba(0, 0, 0, 0.15);\n",
              "      filter: drop-shadow(0px 1px 2px rgba(0, 0, 0, 0.3));\n",
              "      fill: #FFFFFF;\n",
              "    }\n",
              "  </style>\n",
              "\n",
              "      <script>\n",
              "        const buttonEl =\n",
              "          document.querySelector('#df-5cd96423-844f-4d23-acf9-b2f39331ac92 button.colab-df-convert');\n",
              "        buttonEl.style.display =\n",
              "          google.colab.kernel.accessAllowed ? 'block' : 'none';\n",
              "\n",
              "        async function convertToInteractive(key) {\n",
              "          const element = document.querySelector('#df-5cd96423-844f-4d23-acf9-b2f39331ac92');\n",
              "          const dataTable =\n",
              "            await google.colab.kernel.invokeFunction('convertToInteractive',\n",
              "                                                     [key], {});\n",
              "          if (!dataTable) return;\n",
              "\n",
              "          const docLinkHtml = 'Like what you see? Visit the ' +\n",
              "            '<a target=\"_blank\" href=https://colab.research.google.com/notebooks/data_table.ipynb>data table notebook</a>'\n",
              "            + ' to learn more about interactive tables.';\n",
              "          element.innerHTML = '';\n",
              "          dataTable['output_type'] = 'display_data';\n",
              "          await google.colab.output.renderOutput(dataTable, element);\n",
              "          const docLink = document.createElement('div');\n",
              "          docLink.innerHTML = docLinkHtml;\n",
              "          element.appendChild(docLink);\n",
              "        }\n",
              "      </script>\n",
              "    </div>\n",
              "  </div>\n",
              "  "
            ]
          },
          "metadata": {},
          "execution_count": 5
        }
      ],
      "source": [
        "y.head()"
      ]
    },
    {
      "cell_type": "code",
      "execution_count": 6,
      "metadata": {
        "id": "S0zEcFUJaciB"
      },
      "outputs": [],
      "source": [
        "y=y['Label']\n",
        "x=x.drop(['Label'], axis=1)\n"
      ]
    },
    {
      "cell_type": "code",
      "execution_count": 7,
      "metadata": {
        "colab": {
          "base_uri": "https://localhost:8080/",
          "height": 352
        },
        "id": "LwDTwYts4zos",
        "outputId": "14a25daa-fe70-47f6-8f01-c7a467ea10ef"
      },
      "outputs": [
        {
          "output_type": "execute_result",
          "data": {
            "text/plain": [
              "   Unnamed: 0   Source_IP   Source_Port   Destination_IP   Destination_Port  \\\n",
              "0           0  2886729733         57177       3232248324              19971   \n",
              "1           1  2886729733         31536       3232248324                 23   \n",
              "2           2  2886729733         52312       3232248324              20889   \n",
              "3           3  2886729733         44853       3232248324               1274   \n",
              "4           4  2886729733           648       3232248324              35182   \n",
              "\n",
              "    Protocol   Flow_Duration  Total_Length_of_Fwd Packets  \\\n",
              "0          6          188912                           24   \n",
              "1          6             183                           12   \n",
              "2          6          168997                           24   \n",
              "3          6          151583                           24   \n",
              "4         17               3                          458   \n",
              "\n",
              "    Total_Length_of_Bwd Packets   Fwd Packet Length Mean  ...  \\\n",
              "0                            12                      6.0  ...   \n",
              "1                            12                      6.0  ...   \n",
              "2                            12                      6.0  ...   \n",
              "3                            12                      6.0  ...   \n",
              "4                             0                    229.0  ...   \n",
              "\n",
              "    Packet Length Variance   SYN Flag Count   Average Packet Size  \\\n",
              "0                      0.0                0                   7.0   \n",
              "1                      0.0                0                   7.5   \n",
              "2                      0.0                0                   7.0   \n",
              "3                      0.0                0                   7.0   \n",
              "4                      0.0                0                 343.5   \n",
              "\n",
              "    Avg Fwd Segment Size   Avg Bwd Segment Size   Fwd Header Length.1  \\\n",
              "0                    6.0                    6.0                    80   \n",
              "1                    6.0                    6.0                    40   \n",
              "2                    6.0                    6.0                    80   \n",
              "3                    6.0                    6.0                    80   \n",
              "4                  229.0                    0.0                    64   \n",
              "\n",
              "   Subflow Fwd Packets   act_data_pkt_fwd   min_seg_size_forward   Inbound  \n",
              "0                    4                  3                     20         1  \n",
              "1                    2                  1                     20         1  \n",
              "2                    4                  3                     20         1  \n",
              "3                    4                  3                     20         1  \n",
              "4                    2                  1                     32         1  \n",
              "\n",
              "[5 rows x 27 columns]"
            ],
            "text/html": [
              "\n",
              "  <div id=\"df-afbd7563-ae9e-43c5-b65d-2dd04a2bce2d\">\n",
              "    <div class=\"colab-df-container\">\n",
              "      <div>\n",
              "<style scoped>\n",
              "    .dataframe tbody tr th:only-of-type {\n",
              "        vertical-align: middle;\n",
              "    }\n",
              "\n",
              "    .dataframe tbody tr th {\n",
              "        vertical-align: top;\n",
              "    }\n",
              "\n",
              "    .dataframe thead th {\n",
              "        text-align: right;\n",
              "    }\n",
              "</style>\n",
              "<table border=\"1\" class=\"dataframe\">\n",
              "  <thead>\n",
              "    <tr style=\"text-align: right;\">\n",
              "      <th></th>\n",
              "      <th>Unnamed: 0</th>\n",
              "      <th>Source_IP</th>\n",
              "      <th>Source_Port</th>\n",
              "      <th>Destination_IP</th>\n",
              "      <th>Destination_Port</th>\n",
              "      <th>Protocol</th>\n",
              "      <th>Flow_Duration</th>\n",
              "      <th>Total_Length_of_Fwd Packets</th>\n",
              "      <th>Total_Length_of_Bwd Packets</th>\n",
              "      <th>Fwd Packet Length Mean</th>\n",
              "      <th>...</th>\n",
              "      <th>Packet Length Variance</th>\n",
              "      <th>SYN Flag Count</th>\n",
              "      <th>Average Packet Size</th>\n",
              "      <th>Avg Fwd Segment Size</th>\n",
              "      <th>Avg Bwd Segment Size</th>\n",
              "      <th>Fwd Header Length.1</th>\n",
              "      <th>Subflow Fwd Packets</th>\n",
              "      <th>act_data_pkt_fwd</th>\n",
              "      <th>min_seg_size_forward</th>\n",
              "      <th>Inbound</th>\n",
              "    </tr>\n",
              "  </thead>\n",
              "  <tbody>\n",
              "    <tr>\n",
              "      <th>0</th>\n",
              "      <td>0</td>\n",
              "      <td>2886729733</td>\n",
              "      <td>57177</td>\n",
              "      <td>3232248324</td>\n",
              "      <td>19971</td>\n",
              "      <td>6</td>\n",
              "      <td>188912</td>\n",
              "      <td>24</td>\n",
              "      <td>12</td>\n",
              "      <td>6.0</td>\n",
              "      <td>...</td>\n",
              "      <td>0.0</td>\n",
              "      <td>0</td>\n",
              "      <td>7.0</td>\n",
              "      <td>6.0</td>\n",
              "      <td>6.0</td>\n",
              "      <td>80</td>\n",
              "      <td>4</td>\n",
              "      <td>3</td>\n",
              "      <td>20</td>\n",
              "      <td>1</td>\n",
              "    </tr>\n",
              "    <tr>\n",
              "      <th>1</th>\n",
              "      <td>1</td>\n",
              "      <td>2886729733</td>\n",
              "      <td>31536</td>\n",
              "      <td>3232248324</td>\n",
              "      <td>23</td>\n",
              "      <td>6</td>\n",
              "      <td>183</td>\n",
              "      <td>12</td>\n",
              "      <td>12</td>\n",
              "      <td>6.0</td>\n",
              "      <td>...</td>\n",
              "      <td>0.0</td>\n",
              "      <td>0</td>\n",
              "      <td>7.5</td>\n",
              "      <td>6.0</td>\n",
              "      <td>6.0</td>\n",
              "      <td>40</td>\n",
              "      <td>2</td>\n",
              "      <td>1</td>\n",
              "      <td>20</td>\n",
              "      <td>1</td>\n",
              "    </tr>\n",
              "    <tr>\n",
              "      <th>2</th>\n",
              "      <td>2</td>\n",
              "      <td>2886729733</td>\n",
              "      <td>52312</td>\n",
              "      <td>3232248324</td>\n",
              "      <td>20889</td>\n",
              "      <td>6</td>\n",
              "      <td>168997</td>\n",
              "      <td>24</td>\n",
              "      <td>12</td>\n",
              "      <td>6.0</td>\n",
              "      <td>...</td>\n",
              "      <td>0.0</td>\n",
              "      <td>0</td>\n",
              "      <td>7.0</td>\n",
              "      <td>6.0</td>\n",
              "      <td>6.0</td>\n",
              "      <td>80</td>\n",
              "      <td>4</td>\n",
              "      <td>3</td>\n",
              "      <td>20</td>\n",
              "      <td>1</td>\n",
              "    </tr>\n",
              "    <tr>\n",
              "      <th>3</th>\n",
              "      <td>3</td>\n",
              "      <td>2886729733</td>\n",
              "      <td>44853</td>\n",
              "      <td>3232248324</td>\n",
              "      <td>1274</td>\n",
              "      <td>6</td>\n",
              "      <td>151583</td>\n",
              "      <td>24</td>\n",
              "      <td>12</td>\n",
              "      <td>6.0</td>\n",
              "      <td>...</td>\n",
              "      <td>0.0</td>\n",
              "      <td>0</td>\n",
              "      <td>7.0</td>\n",
              "      <td>6.0</td>\n",
              "      <td>6.0</td>\n",
              "      <td>80</td>\n",
              "      <td>4</td>\n",
              "      <td>3</td>\n",
              "      <td>20</td>\n",
              "      <td>1</td>\n",
              "    </tr>\n",
              "    <tr>\n",
              "      <th>4</th>\n",
              "      <td>4</td>\n",
              "      <td>2886729733</td>\n",
              "      <td>648</td>\n",
              "      <td>3232248324</td>\n",
              "      <td>35182</td>\n",
              "      <td>17</td>\n",
              "      <td>3</td>\n",
              "      <td>458</td>\n",
              "      <td>0</td>\n",
              "      <td>229.0</td>\n",
              "      <td>...</td>\n",
              "      <td>0.0</td>\n",
              "      <td>0</td>\n",
              "      <td>343.5</td>\n",
              "      <td>229.0</td>\n",
              "      <td>0.0</td>\n",
              "      <td>64</td>\n",
              "      <td>2</td>\n",
              "      <td>1</td>\n",
              "      <td>32</td>\n",
              "      <td>1</td>\n",
              "    </tr>\n",
              "  </tbody>\n",
              "</table>\n",
              "<p>5 rows × 27 columns</p>\n",
              "</div>\n",
              "      <button class=\"colab-df-convert\" onclick=\"convertToInteractive('df-afbd7563-ae9e-43c5-b65d-2dd04a2bce2d')\"\n",
              "              title=\"Convert this dataframe to an interactive table.\"\n",
              "              style=\"display:none;\">\n",
              "        \n",
              "  <svg xmlns=\"http://www.w3.org/2000/svg\" height=\"24px\"viewBox=\"0 0 24 24\"\n",
              "       width=\"24px\">\n",
              "    <path d=\"M0 0h24v24H0V0z\" fill=\"none\"/>\n",
              "    <path d=\"M18.56 5.44l.94 2.06.94-2.06 2.06-.94-2.06-.94-.94-2.06-.94 2.06-2.06.94zm-11 1L8.5 8.5l.94-2.06 2.06-.94-2.06-.94L8.5 2.5l-.94 2.06-2.06.94zm10 10l.94 2.06.94-2.06 2.06-.94-2.06-.94-.94-2.06-.94 2.06-2.06.94z\"/><path d=\"M17.41 7.96l-1.37-1.37c-.4-.4-.92-.59-1.43-.59-.52 0-1.04.2-1.43.59L10.3 9.45l-7.72 7.72c-.78.78-.78 2.05 0 2.83L4 21.41c.39.39.9.59 1.41.59.51 0 1.02-.2 1.41-.59l7.78-7.78 2.81-2.81c.8-.78.8-2.07 0-2.86zM5.41 20L4 18.59l7.72-7.72 1.47 1.35L5.41 20z\"/>\n",
              "  </svg>\n",
              "      </button>\n",
              "      \n",
              "  <style>\n",
              "    .colab-df-container {\n",
              "      display:flex;\n",
              "      flex-wrap:wrap;\n",
              "      gap: 12px;\n",
              "    }\n",
              "\n",
              "    .colab-df-convert {\n",
              "      background-color: #E8F0FE;\n",
              "      border: none;\n",
              "      border-radius: 50%;\n",
              "      cursor: pointer;\n",
              "      display: none;\n",
              "      fill: #1967D2;\n",
              "      height: 32px;\n",
              "      padding: 0 0 0 0;\n",
              "      width: 32px;\n",
              "    }\n",
              "\n",
              "    .colab-df-convert:hover {\n",
              "      background-color: #E2EBFA;\n",
              "      box-shadow: 0px 1px 2px rgba(60, 64, 67, 0.3), 0px 1px 3px 1px rgba(60, 64, 67, 0.15);\n",
              "      fill: #174EA6;\n",
              "    }\n",
              "\n",
              "    [theme=dark] .colab-df-convert {\n",
              "      background-color: #3B4455;\n",
              "      fill: #D2E3FC;\n",
              "    }\n",
              "\n",
              "    [theme=dark] .colab-df-convert:hover {\n",
              "      background-color: #434B5C;\n",
              "      box-shadow: 0px 1px 3px 1px rgba(0, 0, 0, 0.15);\n",
              "      filter: drop-shadow(0px 1px 2px rgba(0, 0, 0, 0.3));\n",
              "      fill: #FFFFFF;\n",
              "    }\n",
              "  </style>\n",
              "\n",
              "      <script>\n",
              "        const buttonEl =\n",
              "          document.querySelector('#df-afbd7563-ae9e-43c5-b65d-2dd04a2bce2d button.colab-df-convert');\n",
              "        buttonEl.style.display =\n",
              "          google.colab.kernel.accessAllowed ? 'block' : 'none';\n",
              "\n",
              "        async function convertToInteractive(key) {\n",
              "          const element = document.querySelector('#df-afbd7563-ae9e-43c5-b65d-2dd04a2bce2d');\n",
              "          const dataTable =\n",
              "            await google.colab.kernel.invokeFunction('convertToInteractive',\n",
              "                                                     [key], {});\n",
              "          if (!dataTable) return;\n",
              "\n",
              "          const docLinkHtml = 'Like what you see? Visit the ' +\n",
              "            '<a target=\"_blank\" href=https://colab.research.google.com/notebooks/data_table.ipynb>data table notebook</a>'\n",
              "            + ' to learn more about interactive tables.';\n",
              "          element.innerHTML = '';\n",
              "          dataTable['output_type'] = 'display_data';\n",
              "          await google.colab.output.renderOutput(dataTable, element);\n",
              "          const docLink = document.createElement('div');\n",
              "          docLink.innerHTML = docLinkHtml;\n",
              "          element.appendChild(docLink);\n",
              "        }\n",
              "      </script>\n",
              "    </div>\n",
              "  </div>\n",
              "  "
            ]
          },
          "metadata": {},
          "execution_count": 7
        }
      ],
      "source": [
        "x.head()"
      ]
    },
    {
      "cell_type": "code",
      "execution_count": 8,
      "metadata": {
        "colab": {
          "base_uri": "https://localhost:8080/"
        },
        "id": "hMWp4ZQu700k",
        "outputId": "14cb84ef-4f63-4356-f723-1d800702550e"
      },
      "outputs": [
        {
          "output_type": "execute_result",
          "data": {
            "text/plain": [
              "(1048499, 27)"
            ]
          },
          "metadata": {},
          "execution_count": 8
        }
      ],
      "source": [
        "x.shape"
      ]
    },
    {
      "cell_type": "code",
      "execution_count": 10,
      "metadata": {
        "id": "h34shmlEqMdu"
      },
      "outputs": [],
      "source": [
        "#normalizing the data\n",
        "normalized_df=(x-x.mean())/x.std()\n",
        "#normalized_df=preprocessing.normalize(x)"
      ]
    },
    {
      "cell_type": "code",
      "execution_count": null,
      "metadata": {
        "colab": {
          "base_uri": "https://localhost:8080/"
        },
        "id": "8ilKdvOK5UDd",
        "outputId": "de3e27ec-06b7-4ff8-c050-96a378e93fef"
      },
      "outputs": [
        {
          "output_type": "execute_result",
          "data": {
            "text/plain": [
              "array([[0.00000000e+00, 6.66117674e-01, 1.31936876e-05, ...,\n",
              "        6.92254976e-10, 4.61503317e-09, 2.30751659e-10],\n",
              "       [2.30751659e-10, 6.66117674e-01, 7.27698431e-06, ...,\n",
              "        2.30751659e-10, 4.61503318e-09, 2.30751659e-10],\n",
              "       [4.61503317e-10, 6.66117674e-01, 1.20710808e-05, ...,\n",
              "        6.92254976e-10, 4.61503317e-09, 2.30751659e-10],\n",
              "       ...,\n",
              "       [2.41942184e-04, 6.66117655e-01, 8.21729708e-06, ...,\n",
              "        2.30751652e-10, 4.61503304e-09, 2.30751652e-10],\n",
              "       [2.41942415e-04, 6.66117655e-01, 8.21752783e-06, ...,\n",
              "        2.30751652e-10, 4.61503304e-09, 2.30751652e-10],\n",
              "       [2.41942646e-04, 6.66117655e-01, 8.21775858e-06, ...,\n",
              "        2.30751652e-10, 4.61503304e-09, 2.30751652e-10]])"
            ]
          },
          "metadata": {},
          "execution_count": 45
        }
      ],
      "source": [
        "normalized_df\n"
      ]
    },
    {
      "cell_type": "code",
      "execution_count": 11,
      "metadata": {
        "colab": {
          "base_uri": "https://localhost:8080/"
        },
        "id": "rEREKWdKiFB2",
        "outputId": "a64e260f-e8bf-496c-8f2c-c410436d5394"
      },
      "outputs": [
        {
          "output_type": "execute_result",
          "data": {
            "text/plain": [
              "8"
            ]
          },
          "metadata": {},
          "execution_count": 11
        }
      ],
      "source": [
        "y.nunique()"
      ]
    },
    {
      "cell_type": "code",
      "execution_count": 12,
      "metadata": {
        "id": "zBx1ZPpAKMZ1",
        "colab": {
          "base_uri": "https://localhost:8080/",
          "height": 206
        },
        "outputId": "07c9c356-88ee-4a46-9442-63de7593f8cb"
      },
      "outputs": [
        {
          "output_type": "execute_result",
          "data": {
            "text/plain": [
              "   ['Label']_0  ['Label']_1  ['Label']_2  ['Label']_3  ['Label']_4  \\\n",
              "0            0            0            1            0            0   \n",
              "1            0            0            1            0            0   \n",
              "2            0            0            1            0            0   \n",
              "3            0            0            1            0            0   \n",
              "4            0            0            1            0            0   \n",
              "\n",
              "   ['Label']_5  ['Label']_6  ['Label']_7  \n",
              "0            0            0            0  \n",
              "1            0            0            0  \n",
              "2            0            0            0  \n",
              "3            0            0            0  \n",
              "4            0            0            0  "
            ],
            "text/html": [
              "\n",
              "  <div id=\"df-29e00aee-06d4-4f5b-8289-62107d2ff65b\">\n",
              "    <div class=\"colab-df-container\">\n",
              "      <div>\n",
              "<style scoped>\n",
              "    .dataframe tbody tr th:only-of-type {\n",
              "        vertical-align: middle;\n",
              "    }\n",
              "\n",
              "    .dataframe tbody tr th {\n",
              "        vertical-align: top;\n",
              "    }\n",
              "\n",
              "    .dataframe thead th {\n",
              "        text-align: right;\n",
              "    }\n",
              "</style>\n",
              "<table border=\"1\" class=\"dataframe\">\n",
              "  <thead>\n",
              "    <tr style=\"text-align: right;\">\n",
              "      <th></th>\n",
              "      <th>['Label']_0</th>\n",
              "      <th>['Label']_1</th>\n",
              "      <th>['Label']_2</th>\n",
              "      <th>['Label']_3</th>\n",
              "      <th>['Label']_4</th>\n",
              "      <th>['Label']_5</th>\n",
              "      <th>['Label']_6</th>\n",
              "      <th>['Label']_7</th>\n",
              "    </tr>\n",
              "  </thead>\n",
              "  <tbody>\n",
              "    <tr>\n",
              "      <th>0</th>\n",
              "      <td>0</td>\n",
              "      <td>0</td>\n",
              "      <td>1</td>\n",
              "      <td>0</td>\n",
              "      <td>0</td>\n",
              "      <td>0</td>\n",
              "      <td>0</td>\n",
              "      <td>0</td>\n",
              "    </tr>\n",
              "    <tr>\n",
              "      <th>1</th>\n",
              "      <td>0</td>\n",
              "      <td>0</td>\n",
              "      <td>1</td>\n",
              "      <td>0</td>\n",
              "      <td>0</td>\n",
              "      <td>0</td>\n",
              "      <td>0</td>\n",
              "      <td>0</td>\n",
              "    </tr>\n",
              "    <tr>\n",
              "      <th>2</th>\n",
              "      <td>0</td>\n",
              "      <td>0</td>\n",
              "      <td>1</td>\n",
              "      <td>0</td>\n",
              "      <td>0</td>\n",
              "      <td>0</td>\n",
              "      <td>0</td>\n",
              "      <td>0</td>\n",
              "    </tr>\n",
              "    <tr>\n",
              "      <th>3</th>\n",
              "      <td>0</td>\n",
              "      <td>0</td>\n",
              "      <td>1</td>\n",
              "      <td>0</td>\n",
              "      <td>0</td>\n",
              "      <td>0</td>\n",
              "      <td>0</td>\n",
              "      <td>0</td>\n",
              "    </tr>\n",
              "    <tr>\n",
              "      <th>4</th>\n",
              "      <td>0</td>\n",
              "      <td>0</td>\n",
              "      <td>1</td>\n",
              "      <td>0</td>\n",
              "      <td>0</td>\n",
              "      <td>0</td>\n",
              "      <td>0</td>\n",
              "      <td>0</td>\n",
              "    </tr>\n",
              "  </tbody>\n",
              "</table>\n",
              "</div>\n",
              "      <button class=\"colab-df-convert\" onclick=\"convertToInteractive('df-29e00aee-06d4-4f5b-8289-62107d2ff65b')\"\n",
              "              title=\"Convert this dataframe to an interactive table.\"\n",
              "              style=\"display:none;\">\n",
              "        \n",
              "  <svg xmlns=\"http://www.w3.org/2000/svg\" height=\"24px\"viewBox=\"0 0 24 24\"\n",
              "       width=\"24px\">\n",
              "    <path d=\"M0 0h24v24H0V0z\" fill=\"none\"/>\n",
              "    <path d=\"M18.56 5.44l.94 2.06.94-2.06 2.06-.94-2.06-.94-.94-2.06-.94 2.06-2.06.94zm-11 1L8.5 8.5l.94-2.06 2.06-.94-2.06-.94L8.5 2.5l-.94 2.06-2.06.94zm10 10l.94 2.06.94-2.06 2.06-.94-2.06-.94-.94-2.06-.94 2.06-2.06.94z\"/><path d=\"M17.41 7.96l-1.37-1.37c-.4-.4-.92-.59-1.43-.59-.52 0-1.04.2-1.43.59L10.3 9.45l-7.72 7.72c-.78.78-.78 2.05 0 2.83L4 21.41c.39.39.9.59 1.41.59.51 0 1.02-.2 1.41-.59l7.78-7.78 2.81-2.81c.8-.78.8-2.07 0-2.86zM5.41 20L4 18.59l7.72-7.72 1.47 1.35L5.41 20z\"/>\n",
              "  </svg>\n",
              "      </button>\n",
              "      \n",
              "  <style>\n",
              "    .colab-df-container {\n",
              "      display:flex;\n",
              "      flex-wrap:wrap;\n",
              "      gap: 12px;\n",
              "    }\n",
              "\n",
              "    .colab-df-convert {\n",
              "      background-color: #E8F0FE;\n",
              "      border: none;\n",
              "      border-radius: 50%;\n",
              "      cursor: pointer;\n",
              "      display: none;\n",
              "      fill: #1967D2;\n",
              "      height: 32px;\n",
              "      padding: 0 0 0 0;\n",
              "      width: 32px;\n",
              "    }\n",
              "\n",
              "    .colab-df-convert:hover {\n",
              "      background-color: #E2EBFA;\n",
              "      box-shadow: 0px 1px 2px rgba(60, 64, 67, 0.3), 0px 1px 3px 1px rgba(60, 64, 67, 0.15);\n",
              "      fill: #174EA6;\n",
              "    }\n",
              "\n",
              "    [theme=dark] .colab-df-convert {\n",
              "      background-color: #3B4455;\n",
              "      fill: #D2E3FC;\n",
              "    }\n",
              "\n",
              "    [theme=dark] .colab-df-convert:hover {\n",
              "      background-color: #434B5C;\n",
              "      box-shadow: 0px 1px 3px 1px rgba(0, 0, 0, 0.15);\n",
              "      filter: drop-shadow(0px 1px 2px rgba(0, 0, 0, 0.3));\n",
              "      fill: #FFFFFF;\n",
              "    }\n",
              "  </style>\n",
              "\n",
              "      <script>\n",
              "        const buttonEl =\n",
              "          document.querySelector('#df-29e00aee-06d4-4f5b-8289-62107d2ff65b button.colab-df-convert');\n",
              "        buttonEl.style.display =\n",
              "          google.colab.kernel.accessAllowed ? 'block' : 'none';\n",
              "\n",
              "        async function convertToInteractive(key) {\n",
              "          const element = document.querySelector('#df-29e00aee-06d4-4f5b-8289-62107d2ff65b');\n",
              "          const dataTable =\n",
              "            await google.colab.kernel.invokeFunction('convertToInteractive',\n",
              "                                                     [key], {});\n",
              "          if (!dataTable) return;\n",
              "\n",
              "          const docLinkHtml = 'Like what you see? Visit the ' +\n",
              "            '<a target=\"_blank\" href=https://colab.research.google.com/notebooks/data_table.ipynb>data table notebook</a>'\n",
              "            + ' to learn more about interactive tables.';\n",
              "          element.innerHTML = '';\n",
              "          dataTable['output_type'] = 'display_data';\n",
              "          await google.colab.output.renderOutput(dataTable, element);\n",
              "          const docLink = document.createElement('div');\n",
              "          docLink.innerHTML = docLinkHtml;\n",
              "          element.appendChild(docLink);\n",
              "        }\n",
              "      </script>\n",
              "    </div>\n",
              "  </div>\n",
              "  "
            ]
          },
          "metadata": {},
          "execution_count": 12
        }
      ],
      "source": [
        "y = pd.get_dummies(y,prefix=['Label'])\n",
        "y.head()"
      ]
    },
    {
      "cell_type": "code",
      "execution_count": 13,
      "metadata": {
        "colab": {
          "base_uri": "https://localhost:8080/"
        },
        "id": "r5vq4fAk-_o7",
        "outputId": "a1e4e7a3-0b1c-4e9b-f5a1-0fe7cc2a884c"
      },
      "outputs": [
        {
          "output_type": "execute_result",
          "data": {
            "text/plain": [
              "(1048499, 8)"
            ]
          },
          "metadata": {},
          "execution_count": 13
        }
      ],
      "source": [
        "y.shape\n"
      ]
    },
    {
      "cell_type": "code",
      "execution_count": 14,
      "metadata": {
        "id": "yXU3qYsqMecD"
      },
      "outputs": [],
      "source": [
        "from sklearn.model_selection import train_test_split\n",
        "X_train, X_test, y_train, y_test = train_test_split(normalized_df, y, test_size=0.25, random_state=0)\n",
        "y_train = np.array(y_train)"
      ]
    },
    {
      "cell_type": "code",
      "execution_count": 15,
      "metadata": {
        "id": "uXSDDA5b5biN"
      },
      "outputs": [],
      "source": [
        "y_train = np.array(y_train)\n",
        "y_test = np.array(y_test)\n",
        "X_train = np.array(X_train)\n",
        "X_test = np.array(X_test)\n",
        "X_train = np.reshape(X_train, (X_train.shape[0],X_train.shape[1],1))\n",
        "X_test = np.reshape(X_test, (X_test.shape[0],X_test.shape[1],1))"
      ]
    },
    {
      "cell_type": "code",
      "execution_count": 16,
      "metadata": {
        "colab": {
          "base_uri": "https://localhost:8080/"
        },
        "id": "8AjyOGQX5eNt",
        "outputId": "5ffda487-55cf-401d-ec85-415fdc4688da"
      },
      "outputs": [
        {
          "output_type": "stream",
          "name": "stdout",
          "text": [
            "xtrain=(786374, 27, 1), ytrain=(786374, 8), xtest=(262125, 27, 1), ytest=(262125, 8)\n"
          ]
        }
      ],
      "source": [
        "print('xtrain={}, ytrain={}, xtest={}, ytest={}'.format(X_train.shape,y_train.shape,X_test.shape,y_test.shape))"
      ]
    },
    {
      "cell_type": "code",
      "execution_count": 17,
      "metadata": {
        "id": "2uy2mGjoMrDg"
      },
      "outputs": [],
      "source": [
        "from keras import optimizers\n",
        "sgd = optimizers.SGD(learning_rate=0.009, decay=1e-6, momentum=0.9, nesterov=True)"
      ]
    },
    {
      "cell_type": "code",
      "execution_count": 18,
      "metadata": {
        "colab": {
          "base_uri": "https://localhost:8080/"
        },
        "id": "LkSMdt3q9ffc",
        "outputId": "2fc93f34-a98e-476a-afe4-2f13018720b4"
      },
      "outputs": [
        {
          "output_type": "stream",
          "name": "stdout",
          "text": [
            "Epoch 1/15\n",
            "158/158 [==============================] - 13s 18ms/step - loss: 0.1064 - accuracy: 0.7840 - val_loss: 0.0840 - val_accuracy: 0.9048\n",
            "Epoch 2/15\n",
            "158/158 [==============================] - 3s 19ms/step - loss: 0.0570 - accuracy: 0.9407 - val_loss: 0.0388 - val_accuracy: 0.9691\n",
            "Epoch 3/15\n",
            "158/158 [==============================] - 2s 15ms/step - loss: 0.0351 - accuracy: 0.9751 - val_loss: 0.0317 - val_accuracy: 0.9787\n",
            "Epoch 4/15\n",
            "158/158 [==============================] - 2s 15ms/step - loss: 0.0304 - accuracy: 0.9794 - val_loss: 0.0288 - val_accuracy: 0.9799\n",
            "Epoch 5/15\n",
            "158/158 [==============================] - 2s 16ms/step - loss: 0.0273 - accuracy: 0.9799 - val_loss: 0.0261 - val_accuracy: 0.9803\n",
            "Epoch 6/15\n",
            "158/158 [==============================] - 2s 15ms/step - loss: 0.0247 - accuracy: 0.9802 - val_loss: 0.0229 - val_accuracy: 0.9807\n",
            "Epoch 7/15\n",
            "158/158 [==============================] - 2s 16ms/step - loss: 0.0226 - accuracy: 0.9808 - val_loss: 0.0217 - val_accuracy: 0.9811\n",
            "Epoch 8/15\n",
            "158/158 [==============================] - 2s 15ms/step - loss: 0.0208 - accuracy: 0.9812 - val_loss: 0.0204 - val_accuracy: 0.9816\n",
            "Epoch 9/15\n",
            "158/158 [==============================] - 2s 16ms/step - loss: 0.0190 - accuracy: 0.9819 - val_loss: 0.0178 - val_accuracy: 0.9822\n",
            "Epoch 10/15\n",
            "158/158 [==============================] - 2s 15ms/step - loss: 0.0177 - accuracy: 0.9826 - val_loss: 0.0176 - val_accuracy: 0.9829\n",
            "Epoch 11/15\n",
            "158/158 [==============================] - 2s 15ms/step - loss: 0.0168 - accuracy: 0.9832 - val_loss: 0.0161 - val_accuracy: 0.9836\n",
            "Epoch 12/15\n",
            "158/158 [==============================] - 2s 15ms/step - loss: 0.0153 - accuracy: 0.9840 - val_loss: 0.0148 - val_accuracy: 0.9845\n",
            "Epoch 13/15\n",
            "158/158 [==============================] - 2s 15ms/step - loss: 0.0144 - accuracy: 0.9850 - val_loss: 0.0144 - val_accuracy: 0.9854\n",
            "Epoch 14/15\n",
            "158/158 [==============================] - 2s 16ms/step - loss: 0.0134 - accuracy: 0.9857 - val_loss: 0.0124 - val_accuracy: 0.9860\n",
            "Epoch 15/15\n",
            "158/158 [==============================] - 2s 16ms/step - loss: 0.0122 - accuracy: 0.9865 - val_loss: 0.0118 - val_accuracy: 0.9872\n"
          ]
        },
        {
          "output_type": "execute_result",
          "data": {
            "text/plain": [
              "<keras.callbacks.History at 0x7f9e75c90820>"
            ]
          },
          "metadata": {},
          "execution_count": 18
        }
      ],
      "source": [
        "m2 = Sequential()\n",
        "m2.add(Convolution1D(64, 3, activation=\"relu\", input_shape=(27,1)))\n",
        "m2.add(Convolution1D(32, 3, activation=\"relu\"))\n",
        "m2.add(MaxPooling1D(pool_size=2))\n",
        "m2.add(Flatten())\n",
        "m2.add(Dense(8))\n",
        "\n",
        "\n",
        "m2.compile(loss=\"mean_absolute_error\", optimizer=\"adam\", metrics=['accuracy'])\n",
        "m2.fit(X_train, y_train, epochs=15, batch_size=5000, validation_data=(X_test, y_test))"
      ]
    },
    {
      "cell_type": "code",
      "execution_count": 19,
      "metadata": {
        "id": "frzX_kXg9i7C"
      },
      "outputs": [],
      "source": [
        "#save to folder\n",
        "m2.save(\"/content/drive/My Drive/DatasetCNNDDoS/final_cnn_m2.h5\")"
      ]
    },
    {
      "cell_type": "code",
      "execution_count": 20,
      "metadata": {
        "id": "M3-DWLWPbLk4",
        "colab": {
          "base_uri": "https://localhost:8080/"
        },
        "outputId": "eecee134-950d-4e7c-cfd4-ff6ff73b9989"
      },
      "outputs": [
        {
          "output_type": "stream",
          "name": "stdout",
          "text": [
            "8192/8192 [==============================] - 12s 1ms/step\n"
          ]
        }
      ],
      "source": [
        "y_pred = m2.predict(X_test)"
      ]
    },
    {
      "cell_type": "code",
      "execution_count": 21,
      "metadata": {
        "id": "0cNO8st5uc9G"
      },
      "outputs": [],
      "source": [
        "a = (y_pred > 0.5)\n",
        "b = (y_test > 0.5) "
      ]
    },
    {
      "cell_type": "code",
      "execution_count": 22,
      "metadata": {
        "id": "AtDc4wLdzaBi"
      },
      "outputs": [],
      "source": [
        "b=np.argmax(y_test, axis=1)"
      ]
    },
    {
      "cell_type": "code",
      "execution_count": 23,
      "metadata": {
        "id": "ppJB_LMjzFr3",
        "colab": {
          "base_uri": "https://localhost:8080/"
        },
        "outputId": "97f689a2-7a00-472d-a3f5-66359b57d2fd"
      },
      "outputs": [
        {
          "output_type": "execute_result",
          "data": {
            "text/plain": [
              "4"
            ]
          },
          "metadata": {},
          "execution_count": 23
        }
      ],
      "source": [
        "a=np.argmax(y_pred, axis=1)\n",
        "a[2]"
      ]
    },
    {
      "cell_type": "code",
      "execution_count": 24,
      "metadata": {
        "id": "xouyY6kCbC-s",
        "colab": {
          "base_uri": "https://localhost:8080/"
        },
        "outputId": "e8ff481f-edd6-4c92-db5e-72a80ec141de"
      },
      "outputs": [
        {
          "output_type": "stream",
          "name": "stdout",
          "text": [
            "Convolution Neural Network\n",
            "Accuracy: 98.721221\n",
            "Confusion Matrix =\n",
            " [[14115   123     3    10    15     0     0     0]\n",
            " [    1 49892     3    15     5     0     0     0]\n",
            " [    7    15 49676   210     5     0     0     0]\n",
            " [    3     4  1232 48925    11     0     0     0]\n",
            " [  134     4     0    77 46348     0    61     0]\n",
            " [  623     0     0     0     0     0    59     0]\n",
            " [    5     1     0   240    11     0 49817     0]\n",
            " [   33     0     0    11    13     0   418     0]]\n",
            "Recall = 0.9872122079160706\n"
          ]
        },
        {
          "output_type": "stream",
          "name": "stderr",
          "text": [
            "/usr/local/lib/python3.8/dist-packages/sklearn/metrics/_classification.py:1318: UndefinedMetricWarning: Precision and F-score are ill-defined and being set to 0.0 in labels with no predicted samples. Use `zero_division` parameter to control this behavior.\n",
            "  _warn_prf(average, modifier, msg_start, len(result))\n",
            "/usr/local/lib/python3.8/dist-packages/sklearn/metrics/_classification.py:1318: UndefinedMetricWarning: Precision and F-score are ill-defined and being set to 0.0 in labels with no predicted samples. Use `zero_division` parameter to control this behavior.\n",
            "  _warn_prf(average, modifier, msg_start, len(result))\n"
          ]
        },
        {
          "output_type": "stream",
          "name": "stdout",
          "text": [
            "Classification Report =\n",
            "               precision    recall  f1-score   support\n",
            "\n",
            "           0       0.95      0.99      0.97     14266\n",
            "           1       1.00      1.00      1.00     49916\n",
            "           2       0.98      1.00      0.99     49913\n",
            "           3       0.99      0.98      0.98     50175\n",
            "           4       1.00      0.99      1.00     46624\n",
            "           5       0.00      0.00      0.00       682\n",
            "           6       0.99      0.99      0.99     50074\n",
            "           7       0.00      0.00      0.00       475\n",
            "\n",
            "    accuracy                           0.99    262125\n",
            "   macro avg       0.74      0.74      0.74    262125\n",
            "weighted avg       0.98      0.99      0.99    262125\n",
            "\n",
            "F1 Score =  0.7401440795612984\n"
          ]
        },
        {
          "output_type": "stream",
          "name": "stderr",
          "text": [
            "/usr/local/lib/python3.8/dist-packages/sklearn/metrics/_classification.py:1318: UndefinedMetricWarning: Precision and F-score are ill-defined and being set to 0.0 in labels with no predicted samples. Use `zero_division` parameter to control this behavior.\n",
            "  _warn_prf(average, modifier, msg_start, len(result))\n"
          ]
        }
      ],
      "source": [
        "from sklearn import metrics\n",
        "from sklearn.metrics import accuracy_score\n",
        "from sklearn.metrics import f1_score\n",
        "\n",
        "print('Convolution Neural Network')\n",
        "\n",
        "print('Accuracy: %f' % (accuracy_score(a, b)*100))\n",
        "print(\"Confusion Matrix =\\n\", metrics.confusion_matrix(b, a, labels=None, \n",
        "                                              sample_weight=None))\n",
        "print(\"Recall =\", metrics.recall_score(b, a, labels=None, \n",
        "                                             pos_label=1, average='weighted', \n",
        "                                             sample_weight=None))\n",
        "print(\"Classification Report =\\n\", metrics.classification_report(b, a, \n",
        "                                                                 labels=None, \n",
        "                                                                 target_names=None, \n",
        "                                                                 sample_weight=None, \n",
        "                                                                 digits=2, \n",
        "                                                                 output_dict=False))\n",
        "\n",
        "print(\"F1 Score = \",f1_score(a, b, average='macro'))"
      ]
    }
  ],
  "metadata": {
    "accelerator": "GPU",
    "colab": {
      "provenance": [],
      "include_colab_link": true
    },
    "gpuClass": "standard",
    "kernelspec": {
      "display_name": "Python 3",
      "name": "python3"
    }
  },
  "nbformat": 4,
  "nbformat_minor": 0
}